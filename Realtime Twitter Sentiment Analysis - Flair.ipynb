{
 "cells": [
  {
   "cell_type": "markdown",
   "metadata": {
    "id": "wx37i2gTo2w2"
   },
   "source": [
    "## Install Modules"
   ]
  },
  {
   "cell_type": "code",
   "execution_count": 2,
   "metadata": {
    "id": "OwJSQ501n14B"
   },
   "outputs": [],
   "source": [
    "!pip install tweepy --ignore-installed\n",
    "!pip install flair"
   ]
  },
  {
   "cell_type": "markdown",
   "metadata": {
    "id": "9rM-Cohxpoxz"
   },
   "source": [
    "## Configuration"
   ]
  },
  {
   "cell_type": "markdown",
   "metadata": {
    "id": "4p2o0iVxv3ZC"
   },
   "source": [
    "Get Keys from here: https://developer.twitter.com/en/portal/dashboard"
   ]
  },
  {
   "cell_type": "code",
   "execution_count": 1,
   "metadata": {
    "id": "wSRLCGU9pBNu"
   },
   "outputs": [],
   "source": [
    "bearer = \"<<KEY>>\"\n",
    "consumer_key = \"<<KEY>>\"\n",
    "consumer_secret = \"<<KEY>>\" \n",
    "access_token = \"<<KEY>>\"\n",
    "access_token_secret = \"<<KEY>>\""
   ]
  },
  {
   "cell_type": "markdown",
   "metadata": {
    "id": "qhSSTkrYpwNE"
   },
   "source": [
    "## Import Modules"
   ]
  },
  {
   "cell_type": "code",
   "execution_count": 2,
   "metadata": {
    "id": "1ZEUJDtLpvYs"
   },
   "outputs": [],
   "source": [
    "import tweepy\n",
    "import re\n",
    "import time\n",
    "\n",
    "from flair.models import TextClassifier\n",
    "from flair.data import Sentence"
   ]
  },
  {
   "cell_type": "code",
   "execution_count": 24,
   "metadata": {
    "colab": {
     "base_uri": "https://localhost:8080/"
    },
    "id": "1hIFfY0OqOxU",
    "outputId": "5a1b7594-62c9-47f8-bc39-9f6022a0f9f0"
   },
   "outputs": [
    {
     "data": {
      "text/plain": [
       "Response(data=<User id=1493221119410970626 name=Aswin S username=aswintechguy>, includes={}, errors=[], meta={})"
      ]
     },
     "execution_count": 24,
     "metadata": {},
     "output_type": "execute_result"
    }
   ],
   "source": [
    "## initialize tweepy\n",
    "api = tweepy.Client(bearer, consumer_key, consumer_secret, access_token, access_token_secret)\n",
    "api.get_me()"
   ]
  },
  {
   "cell_type": "code",
   "execution_count": 4,
   "metadata": {
    "colab": {
     "base_uri": "https://localhost:8080/"
    },
    "id": "d7opaPFFpyPs",
    "outputId": "8663eca8-e402-4241-eed5-f723f136d4af"
   },
   "outputs": [
    {
     "name": "stdout",
     "output_type": "stream",
     "text": [
      "@altcryptocom @binance #SHUMO Bullish as ever  🚀🚀🚀.. 💥💥💥 make sure you #HODL a bag  $SHUMO💰💰 #SHUMO to the world 🔥🔥🔥 #SHUMOARMY\n",
      " https://t.co/Qyfbu3BLTN #Shiba #crypto #expo #eth #100x @ShumoOfficial \n",
      "https://t.co/uxi3Z4WthZ https://t.co/boGtlucWgF https://t.co/T6vWRQnpLQ\n",
      "-----------------------------------------------\n",
      "#IMXUSDT Bull Alert!\n",
      "\n",
      "15X Volume\n",
      "Price:      1.436\n",
      "5-min %: 2.4%\n",
      "Volume:  $2,095,578\n",
      " \n",
      "#crypto #whale #btc #eth #IMX $IMX https://t.co/Bk61uU9eed\n",
      "-----------------------------------------------\n",
      "RT @Btcexpertindia: Russia Ukraine war: Investors' wealth tumbles over 5.91 lakh cr in morning trade.\n",
      "Risk is everywhere in life, in Stock…\n",
      "-----------------------------------------------\n",
      "RT @Carefultea1: Make sure to tune in with @christse @cardstack for this webinar. Not to miss for anyone interessed in #Web3. Save the date…\n",
      "-----------------------------------------------\n",
      "RT @bezoge: We're up to something. 👀\n",
      "\n",
      "We want to reward you but it will take some work! \n",
      "\n",
      "If we reach 500 people in the #AMA, we'll give a…\n",
      "-----------------------------------------------\n",
      "RT @airdropinspect: New airdrop: ArcadeLand (USDT)\n",
      "Total Reward: 2,000 USDT\n",
      "Rate: ⭐️⭐️⭐️⭐️\n",
      "Winners: 750 Random &amp; Top 100\n",
      "Distribution: with…\n",
      "-----------------------------------------------\n",
      "RT @NwcPublic: ❗️NWC APP RELEASE LOADING❗️\n",
      "\n",
      "The most essential trading tools at the end of your fingertips.\n",
      "\n",
      "2 days to go ⏳\n",
      "\n",
      "Everything #cr…\n",
      "-----------------------------------------------\n",
      "RT @CryptoTownEU: 🚀 Airdrop: Ape Rocket\n",
      "💰 Value: 20,000,000 $APEROCKET\n",
      "👥 Referral: 5,000,000 $APEROCKET\n",
      "📊 Exchange: Latoken\n",
      "📼 Audit: Audit…\n",
      "-----------------------------------------------\n",
      "RT @MindMusic_BSC: 💥 TUNE IN! 💥\n",
      "\n",
      "Join the live AMA over on telegram tonight at 20:00 UTC for lots of exciting news and updates, including t…\n",
      "-----------------------------------------------\n",
      "RT @JohnHunterGems: Acabo de subir en mi canal de Telegram el libro “DAY TRADING \n",
      "En un semana “  \n",
      "\n",
      "Muy buen libro para empezar en este mun…\n",
      "-----------------------------------------------\n"
     ]
    }
   ],
   "source": [
    "## get tweets in realtime\n",
    "response = api.search_recent_tweets('#crypto')\n",
    "\n",
    "tweets = response.data\n",
    "for tweet in tweets:\n",
    "    print(tweet.text)\n",
    "    print('-----------------------------------------------')"
   ]
  },
  {
   "cell_type": "code",
   "execution_count": 9,
   "metadata": {
    "id": "zIZ8yCKBpyM9"
   },
   "outputs": [],
   "source": [
    "def preprocess_text(text):\n",
    "    # convert to lower case\n",
    "    text = text.lower()\n",
    "    # remove user handle\n",
    "    text = re.sub(\"@[\\w]*\", \"\", text)\n",
    "    # remove http links\n",
    "    text = re.sub(\"http\\S+\", \"\", text)\n",
    "    # remove digits and spl characters\n",
    "    text = re.sub(\"[^a-zA-Z#]\", \" \", text)\n",
    "    # remove rt characters\n",
    "    text = re.sub(\"rt\", \"\", text)\n",
    "    # remove additional spaces\n",
    "    text = re.sub(\"\\s+\", \" \", text)\n",
    "\n",
    "    return text"
   ]
  },
  {
   "cell_type": "code",
   "execution_count": 10,
   "metadata": {
    "colab": {
     "base_uri": "https://localhost:8080/",
     "height": 35
    },
    "id": "JmCtyamSpyLP",
    "outputId": "1fe6cd63-f8f1-410f-d789-7eee81e59b37"
   },
   "outputs": [
    {
     "data": {
      "application/vnd.google.colaboratory.intrinsic+json": {
       "type": "string"
      },
      "text/plain": [
       "'RT @JohnHunterGems: Acabo de subir en mi canal de Telegram el libro “DAY TRADING \\nEn un semana “  \\n\\nMuy buen libro para empezar en este mun…'"
      ]
     },
     "execution_count": 10,
     "metadata": {},
     "output_type": "execute_result"
    }
   ],
   "source": [
    "tweet.text"
   ]
  },
  {
   "cell_type": "code",
   "execution_count": 11,
   "metadata": {
    "colab": {
     "base_uri": "https://localhost:8080/",
     "height": 35
    },
    "id": "y6Em-y40pyJY",
    "outputId": "4ef456bc-5ea7-403f-e792-842c52d932f2"
   },
   "outputs": [
    {
     "data": {
      "application/vnd.google.colaboratory.intrinsic+json": {
       "type": "string"
      },
      "text/plain": [
       "' acabo de subir en mi canal de telegram el libro day trading en un semana muy buen libro para empezar en este mun '"
      ]
     },
     "execution_count": 11,
     "metadata": {},
     "output_type": "execute_result"
    }
   ],
   "source": [
    "preprocess_text(tweet.text)"
   ]
  },
  {
   "cell_type": "code",
   "execution_count": 19,
   "metadata": {
    "colab": {
     "base_uri": "https://localhost:8080/"
    },
    "id": "P5FMQW5LpyHa",
    "outputId": "753cebaf-4e88-4fd5-e847-6fc1526d53f4"
   },
   "outputs": [
    {
     "name": "stdout",
     "output_type": "stream",
     "text": [
      "2022-03-07 14:08:41,483 loading file /root/.flair/models/sentiment-en-mix-distillbert_4.pt\n"
     ]
    }
   ],
   "source": [
    "## create sentiment analysis function\n",
    "classifier = TextClassifier.load('en-sentiment')\n",
    "def get_sentiment(tweet):\n",
    "    sentence = Sentence(tweet)\n",
    "    classifier.predict(sentence)\n",
    "    return str(sentence.labels[0]).split()[0]"
   ]
  },
  {
   "cell_type": "code",
   "execution_count": 20,
   "metadata": {
    "colab": {
     "base_uri": "https://localhost:8080/",
     "height": 35
    },
    "id": "0ibLg8mgpyFG",
    "outputId": "10f7537b-c68a-4e09-cccb-0083ebb6ae0c"
   },
   "outputs": [
    {
     "data": {
      "application/vnd.google.colaboratory.intrinsic+json": {
       "type": "string"
      },
      "text/plain": [
       "'POSITIVE'"
      ]
     },
     "execution_count": 20,
     "metadata": {},
     "output_type": "execute_result"
    }
   ],
   "source": [
    "get_sentiment(tweet.text)"
   ]
  },
  {
   "cell_type": "markdown",
   "metadata": {
    "id": "Tk179BiktmFc"
   },
   "source": [
    "## Realtime Twitter Sentiments"
   ]
  },
  {
   "cell_type": "code",
   "execution_count": 21,
   "metadata": {
    "colab": {
     "base_uri": "https://localhost:8080/"
    },
    "id": "4Evc6LJUpyBz",
    "outputId": "32ee93ca-c0e0-4604-ee1c-7a726669723f"
   },
   "outputs": [
    {
     "name": "stdout",
     "output_type": "stream",
     "text": [
      "2022-03-07 14:09:38,003 loading file /root/.flair/models/sentiment-en-mix-distillbert_4.pt\n"
     ]
    }
   ],
   "source": [
    "## preprocess the tweets\n",
    "def preprocess_text(text):\n",
    "    # convert to lower case\n",
    "    text = text.lower()\n",
    "    # remove user handle\n",
    "    text = re.sub(\"@[\\w]*\", \"\", text)\n",
    "    # remove http links\n",
    "    text = re.sub(\"http\\S+\", \"\", text)\n",
    "    # remove digits and spl characters\n",
    "    text = re.sub(\"[^a-zA-Z#]\", \" \", text)\n",
    "    # remove rt characters\n",
    "    text = re.sub(\"rt\", \"\", text)\n",
    "    # remove additional spaces\n",
    "    text = re.sub(\"\\s+\", \" \", text)\n",
    "\n",
    "    return text\n",
    "\n",
    "## create sentiment analysis function\n",
    "classifier = TextClassifier.load('en-sentiment')\n",
    "def get_sentiment(tweet):\n",
    "    sentence = Sentence(tweet)\n",
    "    classifier.predict(sentence)\n",
    "    return str(sentence.labels).split(\"\\'\")[3]"
   ]
  },
  {
   "cell_type": "code",
   "execution_count": 25,
   "metadata": {
    "colab": {
     "base_uri": "https://localhost:8080/",
     "height": 824
    },
    "id": "dWpZY8gkpx_8",
    "outputId": "4ae1d729-4913-401e-cc32-d9f2fddfda99"
   },
   "outputs": [
    {
     "name": "stdout",
     "output_type": "stream",
     "text": [
      "------------------------Tweet-------------------------------\n",
      "RT @Jennifersperdu3: Plain &amp; Simple Truth  want to be financial free &amp; do whatever it is u want to do in life then BUY #Shibadoge @realshib…\n",
      "------------------------------------------------------------\n",
      "Sentiment: NEGATIVE\n",
      "\n",
      "\n",
      "\n",
      "------------------------Tweet-------------------------------\n",
      "RT @Cryptoskyrun: Guys❗️\n",
      "The day we’ve been waiting for is approaching🚨\n",
      "@NunuSpiritsNFT #TGE COMING SOON🤩\n",
      "\n",
      "📌#NunuSpirits TGE will happen on…\n",
      "------------------------------------------------------------\n",
      "Sentiment: NEGATIVE\n",
      "\n",
      "\n",
      "\n",
      "------------------------Tweet-------------------------------\n",
      "RT @brettmurphynet: #affiliate #affiliatemarketing #deal #blogger #business #cryptocurrency #deals #discount #gifts #marketing #shopping #d…\n",
      "------------------------------------------------------------\n",
      "Sentiment: POSITIVE\n",
      "\n",
      "\n",
      "\n",
      "------------------------Tweet-------------------------------\n",
      "RT @airdropinspect: New airdrop: Lifetise (USDT)\n",
      "Total Reward: 2,000 USDT\n",
      "Rate:⭐️⭐️⭐️⭐️\n",
      "Winners: 700 Random &amp; Top 50\n",
      "Distribution: within a…\n",
      "------------------------------------------------------------\n",
      "Sentiment: POSITIVE\n"
     ]
    },
    {
     "ename": "KeyboardInterrupt",
     "evalue": "ignored",
     "output_type": "error",
     "traceback": [
      "\u001b[0;31m---------------------------------------------------------------------------\u001b[0m",
      "\u001b[0;31mKeyboardInterrupt\u001b[0m                         Traceback (most recent call last)",
      "\u001b[0;32m<ipython-input-25-35d69da5fe7e>\u001b[0m in \u001b[0;36m<module>\u001b[0;34m()\u001b[0m\n\u001b[1;32m     13\u001b[0m         \u001b[0mprint\u001b[0m\u001b[0;34m(\u001b[0m\u001b[0;34m'------------------------------------------------------------'\u001b[0m\u001b[0;34m)\u001b[0m\u001b[0;34m\u001b[0m\u001b[0;34m\u001b[0m\u001b[0m\n\u001b[1;32m     14\u001b[0m         \u001b[0mprint\u001b[0m\u001b[0;34m(\u001b[0m\u001b[0;34m'Sentiment:'\u001b[0m\u001b[0;34m,\u001b[0m \u001b[0msentiment\u001b[0m\u001b[0;34m)\u001b[0m\u001b[0;34m\u001b[0m\u001b[0;34m\u001b[0m\u001b[0m\n\u001b[0;32m---> 15\u001b[0;31m         \u001b[0mtime\u001b[0m\u001b[0;34m.\u001b[0m\u001b[0msleep\u001b[0m\u001b[0;34m(\u001b[0m\u001b[0;36m1\u001b[0m\u001b[0;34m)\u001b[0m\u001b[0;34m\u001b[0m\u001b[0;34m\u001b[0m\u001b[0m\n\u001b[0m\u001b[1;32m     16\u001b[0m         \u001b[0mprint\u001b[0m\u001b[0;34m(\u001b[0m\u001b[0;34m'\\n\\n'\u001b[0m\u001b[0;34m)\u001b[0m\u001b[0;34m\u001b[0m\u001b[0;34m\u001b[0m\u001b[0m\n",
      "\u001b[0;31mKeyboardInterrupt\u001b[0m: "
     ]
    }
   ],
   "source": [
    "## get realtime sentiments\n",
    "while True:\n",
    "    # get tweets (10 tweets)\n",
    "    tweets = api.search_recent_tweets('#crypto').data\n",
    "\n",
    "    for tweet in tweets:\n",
    "        original_tweet = tweet.text\n",
    "        clean_tweet = preprocess_text(original_tweet)\n",
    "        sentiment = get_sentiment(clean_tweet)\n",
    "\n",
    "        print('------------------------Tweet-------------------------------')\n",
    "        print(original_tweet)\n",
    "        print('------------------------------------------------------------')\n",
    "        print('Sentiment:', sentiment)\n",
    "        time.sleep(1)\n",
    "        print('\\n\\n')"
   ]
  },
  {
   "cell_type": "code",
   "execution_count": null,
   "metadata": {
    "id": "C9_Uh7Ucpx8z"
   },
   "outputs": [],
   "source": []
  }
 ],
 "metadata": {
  "colab": {
   "collapsed_sections": [],
   "name": "Realtime Twitter Sentiment Analysis - Flair.ipynb",
   "provenance": []
  },
  "kernelspec": {
   "display_name": "Python 3",
   "language": "python",
   "name": "python3"
  },
  "language_info": {
   "codemirror_mode": {
    "name": "ipython",
    "version": 3
   },
   "file_extension": ".py",
   "mimetype": "text/x-python",
   "name": "python",
   "nbconvert_exporter": "python",
   "pygments_lexer": "ipython3",
   "version": "3.8.3"
  }
 },
 "nbformat": 4,
 "nbformat_minor": 1
}
